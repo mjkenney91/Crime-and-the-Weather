{
 "cells": [
  {
   "cell_type": "code",
   "execution_count": 1,
   "metadata": {
    "collapsed": true,
    "pycharm": {
     "is_executing": false
    }
   },
   "outputs": [],
   "source": [
    "import pandas as pd\n",
    "from sqlalchemy import create_engine\n",
    "from sqlalchemy.orm import sessionmaker\n",
    "dir='C:/Users/mjken/Documents/DSC540/dat/processed/rdy/'\n",
    "dir1='C:/Users/mjken/Documents/DSC540/dat/processed/'"
   ]
  },
  {
   "cell_type": "code",
   "execution_count": 2,
   "outputs": [],
   "source": [
    "eng=create_engine('mysql://newuser:@localhost/main')\n",
    "con=eng.connect()\n",
    "session=sessionmaker(bind=eng)"
   ],
   "metadata": {
    "collapsed": false,
    "pycharm": {
     "name": "#%%\n",
     "is_executing": false
    }
   }
  },
  {
   "cell_type": "code",
   "execution_count": 3,
   "outputs": [
    {
     "name": "stdout",
     "text": [
      "great success\n"
     ],
     "output_type": "stream"
    }
   ],
   "source": [
    "citycsv=pd.read_csv(dir+'cityinfoclean.csv',low_memory=False)\n",
    "crimecsv=pd.read_csv(dir+'crimedataclean.csv',low_memory=False)\n",
    "wdcsv=pd.read_csv(dir1+'wvalcity.csv',low_memory=False)\n",
    "print('great success')"
   ],
   "metadata": {
    "collapsed": false,
    "pycharm": {
     "name": "#%%\n",
     "is_executing": false
    }
   }
  },
  {
   "cell_type": "code",
   "execution_count": 4,
   "outputs": [],
   "source": [
    "crimecsv.rename(columns={'year':'yea'},inplace=True)\n",
    "citycsv.rename(columns={'Agg Travel to Wrk(min) Mode :Pub Tran !=cab St/trolly car subway, elevated':'Agg Travel to Wrk(min) Mode :Pub Tran','City':'cit'},inplace=True)\n",
    "wdcsv=wdcsv[['obsDate', 'DataValue','City']]\n",
    "wdcsv.rename(columns={'City':'citi'},inplace=True)\n",
    "crimecsv=crimecsv[['City', 'yea', 'Population', 'Violent crime',\n",
    "       'Murder and nonnegligent manslaughter', 'Forcible rape', 'Robbery',\n",
    "       'Aggravated assault', 'Property crime', 'Burglary', 'Larceny-theft',\n",
    "       'Motor vehicle theft', 'Arson']]\n",
    "citycsv=citycsv[['cit', 'Year', 'Total Population',\n",
    "       'Total Population Male', 'Total Population Female',\n",
    "       'Agg Travel to Wrk(min)', 'Agg Travel to Wrk(min):Less than 10 min',\n",
    "       'Agg Travel to Wrk(min):10 to 14 min',\n",
    "       'Agg Travel to Wrk(min):15 to 19 min',\n",
    "       'Agg Travel to Wrk(min):20 to 24 min',\n",
    "       'Agg Travel to Wrk(min):25 to 29 min',\n",
    "       'Agg Travel to Wrk(min):30 to 34 min',\n",
    "       'Agg Travel to Wrk(min):35 to 44 min',\n",
    "       'Agg Travel to Wrk(min):45 to 59 min',\n",
    "       'Agg Travel to Wrk(min):60 or more min',\n",
    "       'Agg Travel to Wrk(min) Mode :Total',\n",
    "       'Agg Travel to Wrk(min) Mode :Car',\n",
    "       'Agg Travel to Wrk(min) Mode :Car alone',\n",
    "       'Agg Travel to Wrk(min) Mode :Car Carpool',\n",
    "       'Agg Travel to Wrk(min) Mode :Car Carpool 2P',\n",
    "       'Agg Travel to Wrk(min) Mode :Car Carpool 3P+',\n",
    "       'Agg Travel to Wrk(min) Mode :Pub Tran !=cab',\n",
    "       'Agg Travel to Wrk(min) Mode :Pub Tran',\n",
    "       'Agg Travel to Wrk(min) Mode :Pub Tran',\n",
    "       'Agg Travel to Wrk(min) Mode :Pub Tran !=cab RR ferry',\n",
    "       'Agg Travel to Wrk(min) Mode :Walked',\n",
    "       'Agg Travel to Wrk(min) Mode :Taxicab, motor/bicycle, other',\n",
    "       'Pov Stat :Total', 'Pov Stat :Male', 'Pov Stat :Female',\n",
    "       'Income/Poverty level :Total', 'Income/Poverty level :Under .50',\n",
    "       'Income/Poverty level :.50 to .74', 'Income/Poverty level :.75 to .99',\n",
    "       'Income/Poverty level :1.00 to 1.24',\n",
    "       'Income/Poverty level :1.25 to 1.49',\n",
    "       'Income/Poverty level :1.50 to 1.74',\n",
    "       'Income/Poverty level :1.75 to 1.84',\n",
    "       'Income/Poverty level :1.85 to 1.99',\n",
    "       'Income/Poverty level :2.00 to 2.99',\n",
    "       'Income/Poverty level :3.00 to 3.99',\n",
    "       'Income/Poverty level :4.00 to 4.99',\n",
    "       'Income/Poverty level :5.00 and over', 'HI cover: TOTAL',\n",
    "       'HI cover: Male', 'HI cover: Female', 'Priv HI cover: Total',\n",
    "       'Priv HI cover: Male', 'Priv HI cover: Female', 'Pub HI cover: Total',\n",
    "       'Pub HI cover: Male', 'Pub HI cover: Female',\n",
    "       'Employer HI cover: Total', 'Employer HI cover: Male',\n",
    "       'Employer HI cover: Female', 'Direct HI cover: Total',\n",
    "       'Direct HI cover: Male', 'Direct HI cover: Female',\n",
    "       'Medicaid/Means-det Pub HI cover: Total',\n",
    "       'Medicaid/Means-det Pub HI cover: Male',\n",
    "       'Medicaid/Means-det Pub HI cover: Female']]"
   ],
   "metadata": {
    "collapsed": false,
    "pycharm": {
     "name": "#%%\n",
     "is_executing": false
    }
   }
  },
  {
   "cell_type": "code",
   "execution_count": 5,
   "outputs": [],
   "source": [
    "crimecsv.reset_index(drop=True, inplace=True)\n",
    "citycsv.reset_index(drop=True, inplace=True)\n",
    "wdcsv.reset_index(drop=True, inplace=True)"
   ],
   "metadata": {
    "collapsed": false,
    "pycharm": {
     "name": "#%%\n",
     "is_executing": false
    }
   }
  },
  {
   "cell_type": "code",
   "execution_count": 6,
   "outputs": [],
   "source": [
    "wdcsv.to_sql('wd',con=eng,if_exists='replace',index=False)\n",
    "citycsv.to_sql('ci',con=eng,if_exists='replace',index=False)\n",
    "crimecsv.to_sql('cr',con=eng,if_exists='replace',index=False)\n"
   ],
   "metadata": {
    "collapsed": false,
    "pycharm": {
     "name": "#%%\n",
     "is_executing": false
    }
   }
  },
  {
   "cell_type": "code",
   "execution_count": 7,
   "outputs": [
    {
     "name": "stdout",
     "text": [
      "win\n"
     ],
     "output_type": "stream"
    }
   ],
   "source": [
    "print('win')"
   ],
   "metadata": {
    "collapsed": false,
    "pycharm": {
     "name": "#%%\n",
     "is_executing": false
    }
   }
  },
  {
   "cell_type": "code",
   "execution_count": 8,
   "outputs": [],
   "source": [
    "#stmt=\"CREATE TABLE main.result AS (SELECT * FROM  ci LEFT JOIN cr  ON  ci.cit=cr.City AND ci.Year=cr.yea);\"\n",
    "#con.execute(stmt)"
   ],
   "metadata": {
    "collapsed": false,
    "pycharm": {
     "name": "#%%\n",
     "is_executing": false
    }
   }
  },
  {
   "cell_type": "code",
   "execution_count": 9,
   "outputs": [
    {
     "data": {
      "text/plain": "<sqlalchemy.engine.result.ResultProxy at 0x2a8395eac08>"
     },
     "metadata": {},
     "output_type": "execute_result",
     "execution_count": 9
    }
   ],
   "source": [
    "stmt=\"CREATE TABLE main.fresultf AS (SELECT * FROM  result LEFT JOIN wd  ON  result.cit=wd.citi AND result.Year=wd.obsDate);\"\n",
    "con.execute(stmt)\n",
    "\n"
   ],
   "metadata": {
    "collapsed": false,
    "pycharm": {
     "name": "#%%\n",
     "is_executing": false
    }
   }
  }
 ],
 "metadata": {
  "kernelspec": {
   "display_name": "Python 3",
   "language": "python",
   "name": "python3"
  },
  "language_info": {
   "codemirror_mode": {
    "name": "ipython",
    "version": 2
   },
   "file_extension": ".py",
   "mimetype": "text/x-python",
   "name": "python",
   "nbconvert_exporter": "python",
   "pygments_lexer": "ipython2",
   "version": "2.7.6"
  },
  "pycharm": {
   "stem_cell": {
    "cell_type": "raw",
    "source": [],
    "metadata": {
     "collapsed": false
    }
   }
  }
 },
 "nbformat": 4,
 "nbformat_minor": 0
}